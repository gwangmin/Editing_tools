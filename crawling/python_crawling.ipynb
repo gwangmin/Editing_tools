{
 "cells": [
  {
   "cell_type": "code",
   "execution_count": 33,
   "metadata": {},
   "outputs": [],
   "source": [
    "import requests\n",
    "from bs4 import BeautifulSoup\n",
    "from selenium import webdriver\n",
    "\n",
    "def get(url):\n",
    "    '''\n",
    "    GET request\n",
    "    \n",
    "    url: ex. 'https://google.com'\n",
    "    '''\n",
    "    return requests.get(url)\n",
    "\n",
    "def post(url, data):\n",
    "    '''\n",
    "    POST request\n",
    "    \n",
    "    url: ex. 'https://google.com'\n",
    "    data: dict\n",
    "    '''\n",
    "    return requests.post(url, data=data)\n",
    "\n",
    "def html_to_bs(html):\n",
    "    '''\n",
    "    Convert HTML to BeautifulSoup obj\n",
    "    \n",
    "    html: HTML source\n",
    "    '''\n",
    "    return BeautifulSoup(html, 'html.parser')\n",
    "\n",
    "def resp_to_bs(resp):\n",
    "    '''\n",
    "    Convert Requests's Response obj to BeautifulSoup obj\n",
    "    \n",
    "    resp: Requests library Response obj\n",
    "    '''\n",
    "    return html_to_bs(resp.text)\n",
    "\n",
    "def view_resp(resp):\n",
    "    '''\n",
    "    Print response's status code, header.\n",
    "    \n",
    "    resp: Requests library Response obj\n",
    "    '''\n",
    "    print('Response to ' + resp.url + ':\\n\\tStatus code: ' + str(resp.status_code) + '\\n\\tHeader: ' + str(resp.headers))\n"
   ]
  },
  {
   "cell_type": "code",
   "execution_count": null,
   "metadata": {},
   "outputs": [],
   "source": []
  }
 ],
 "metadata": {
  "kernelspec": {
   "display_name": "Python 3",
   "language": "python",
   "name": "python3"
  },
  "language_info": {
   "codemirror_mode": {
    "name": "ipython",
    "version": 3
   },
   "file_extension": ".py",
   "mimetype": "text/x-python",
   "name": "python",
   "nbconvert_exporter": "python",
   "pygments_lexer": "ipython3",
   "version": "3.6.9"
  }
 },
 "nbformat": 4,
 "nbformat_minor": 4
}
